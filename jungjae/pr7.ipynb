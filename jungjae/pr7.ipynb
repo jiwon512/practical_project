{
 "cells": [
  {
   "cell_type": "code",
   "execution_count": null,
   "id": "30da7c0e",
   "metadata": {},
   "outputs": [],
   "source": [
    "import pandas as pd"
   ]
  },
  {
   "cell_type": "code",
   "execution_count": null,
   "id": "d562120c",
   "metadata": {},
   "outputs": [],
   "source": [
    "df = pd.read_csv('',encoding='cp949')"
   ]
  }
 ],
 "metadata": {
  "language_info": {
   "name": "python"
  }
 },
 "nbformat": 4,
 "nbformat_minor": 5
}
