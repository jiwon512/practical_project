{
 "cells": [
  {
   "cell_type": "markdown",
   "id": "3481bc10",
   "metadata": {},
   "source": [
    "# 라이브러리 "
   ]
  },
  {
   "cell_type": "code",
   "execution_count": 1,
   "id": "0aab0eb5",
   "metadata": {},
   "outputs": [],
   "source": [
    "import pandas as pd\n",
    "import numpy as np\n",
    "import matplotlib.pyplot as plt\n",
    "import seaborn as sns\n",
    "import geopandas as gpd\n",
    "from datetime import datetime\n",
    "import xgboost as xgb \n",
    "from sklearn.model_selection import train_test_split\n",
    "from sklearn.metrics import mean_squared_error, r2_score, mean_absolute_percentage_error\n",
    "from category_encoders import TargetEncoder\n",
    "from sklearn.model_selection import RandomizedSearchCV\n",
    "from sklearn.ensemble import RandomForestRegressor, GradientBoostingRegressor\n",
    "import lightgbm as lgb \n",
    "from sklearn.ensemble import RandomForestRegressor, GradientBoostingRegressor\n",
    "from sklearn.ensemble import StackingRegressor\n",
    "from sklearn.linear_model import LinearRegression          \n",
    "from sklearn.model_selection import cross_val_score\n",
    "\n",
    "plt.rcParams['font.family'] = 'Malgun Gothic'\n",
    "pd.options.display.max_rows = None\n",
    "pd.options.display.max_columns = None"
   ]
  },
  {
   "cell_type": "markdown",
   "id": "2fabafac",
   "metadata": {},
   "source": [
    "# 데이터 불러오기"
   ]
  },
  {
   "cell_type": "code",
   "execution_count": 3,
   "id": "7f834d2b",
   "metadata": {},
   "outputs": [],
   "source": [
    "df = pd.read_csv(\"/Users/Jiwon/Documents/GitHub/practical_project/csv/스마트팜_수정데이터.csv\", encoding=\"cp949\")"
   ]
  },
  {
   "cell_type": "markdown",
   "id": "0957d138",
   "metadata": {},
   "source": [
    "# 데이터 전처리"
   ]
  },
  {
   "cell_type": "markdown",
   "id": "4da078b9",
   "metadata": {},
   "source": [
    "## 농장아이디 \"20261\"은 더블링으로 drop"
   ]
  },
  {
   "cell_type": "code",
   "execution_count": 4,
   "id": "dbbdade4",
   "metadata": {},
   "outputs": [],
   "source": [
    "df_drop = df[df[\"농장아이디\"]==20261].index\n",
    "df.drop(df_drop, inplace=True)"
   ]
  },
  {
   "cell_type": "markdown",
   "id": "289b6d44",
   "metadata": {},
   "source": [
    "## 불필요한 컬럼 제거 (동일한 행, 동일한 컬럼, null값 컬럼)"
   ]
  },
  {
   "cell_type": "code",
   "execution_count": 5,
   "id": "b2c51be0",
   "metadata": {},
   "outputs": [],
   "source": [
    "df.drop(\"체세포\", axis=1, inplace=True)\n",
    "df.drop(\"수집건수\", axis=1, inplace=True)\n",
    "df.drop(\"측정일시\", axis=1, inplace=True)\n",
    "df.drop(\"축종코드\", axis=1, inplace=True)\n",
    "df.drop(\"제조사 아이디\", axis=1, inplace=True)\n",
    "df.drop(\"수집일자\", axis=1, inplace=True)"
   ]
  },
  {
   "cell_type": "markdown",
   "id": "22240d32",
   "metadata": {},
   "source": [
    "## 데이터 타입 변환"
   ]
  },
  {
   "cell_type": "code",
   "execution_count": 6,
   "id": "0492f0f9",
   "metadata": {},
   "outputs": [],
   "source": [
    "# 착유시작, 종료일시 datetime으로 전처리\n",
    "\n",
    "df[\"착유시작일시\"] = pd.to_datetime(df[\"착유시작일시\"], format=\"%Y-%m-%d %H:%M\")\n",
    "df[\"착유종료일시\"] = pd.to_datetime(df[\"착유종료일시\"], format=\"%Y-%m-%d %H:%M\")"
   ]
  },
  {
   "cell_type": "code",
   "execution_count": 7,
   "id": "d3655bdb",
   "metadata": {},
   "outputs": [],
   "source": [
    "# 혈액흐름 전처리\n",
    "\n",
    "df[\"혈액흐름\"] = df[\"혈액흐름\"].apply(lambda x : 0 if x == \"N\" else 1)"
   ]
  },
  {
   "cell_type": "markdown",
   "id": "6008d1df",
   "metadata": {},
   "source": [
    "# 파생변수 생성"
   ]
  },
  {
   "cell_type": "code",
   "execution_count": 8,
   "id": "b42d306e",
   "metadata": {},
   "outputs": [],
   "source": [
    "# 착유시간(분) \n",
    "\n",
    "df[\"착유시간\"] = df[\"착유종료일시\"] - df[\"착유시작일시\"]\n",
    "df[\"착유시간\"]  = df[\"착유시간\"].dt.total_seconds() / 60  # 분 단위로 변환"
   ]
  },
  {
   "cell_type": "code",
   "execution_count": 9,
   "id": "d4ce74d4",
   "metadata": {},
   "outputs": [],
   "source": [
    "# 개체별 나이 (개체번호 앞 7자리는 생년월일)\n",
    "\n",
    "df_birth = df['개체번호'].astype(str).str[:8]\n",
    "df_birthdt = pd.to_datetime(df_birth, format='%Y%m%d', errors='coerce')\n",
    "\n",
    "def calculate_age(birth_date, current_date):\n",
    "\n",
    "    # 만 나이 계산 로직\n",
    "    # 현재 연도 - 출생 연도 - 불리언(생일이 현재 날짜보다 뒤에 있으면 1 빼기)\n",
    "    age = current_date.year - birth_date.year - ((current_date.month, current_date.day) < (birth_date.month, birth_date.day))\n",
    "    return age\n",
    "\n",
    "current_analysis_date = datetime(2021, 10, 1)\n",
    "df['나이'] = df_birthdt.apply(lambda x: calculate_age(x, current_analysis_date))"
   ]
  },
  {
   "cell_type": "code",
   "execution_count": 11,
   "id": "27a5ced4",
   "metadata": {},
   "outputs": [],
   "source": [
    "df[\"측정일\"]=df[\"착유시작일시\"].dt.day"
   ]
  },
  {
   "cell_type": "code",
   "execution_count": 12,
   "id": "84728a44",
   "metadata": {},
   "outputs": [],
   "source": [
    "# 개체별 착유일수\n",
    "\n",
    "df_count2 = df.groupby(\"개체번호\")[\"측정일\"].nunique().reset_index()\n",
    "df_count2.rename(columns={\"측정일\": \"개체별 착유일수\"}, inplace=True)\n",
    "df = df.merge(df_count2, on=\"개체번호\", how=\"left\")"
   ]
  },
  {
   "cell_type": "code",
   "execution_count": 13,
   "id": "e21e0b50",
   "metadata": {},
   "outputs": [],
   "source": [
    "# P/F 비율 (유단백/유지방 비율)\n",
    "\n",
    "df[\"P/F_ratio\"] = df[\"유단백\"]/ df[\"유지방\"]"
   ]
  },
  {
   "cell_type": "code",
   "execution_count": 14,
   "id": "ec11f9c6",
   "metadata": {},
   "outputs": [],
   "source": [
    "# 공기흐름 비율 (착유시간에 따른 공기흐름)\n",
    "\n",
    "df[\"공기흐름_비율\"] = df[\"공기흐름\"] / df[\"착유시간\"]"
   ]
  },
  {
   "cell_type": "code",
   "execution_count": 17,
   "id": "225e28a4",
   "metadata": {},
   "outputs": [],
   "source": [
    "df['개체별_일별착유횟수'] = (\n",
    "    df\n",
    "      .groupby(['개체번호','측정일'])            # 개체번호+측정일별로\n",
    "      ['착유회차']                             # 아무 칼럼 써도 되는데, 착유회차로\n",
    "      .transform('count')                     # 등장 횟수를 세어서\n",
    ")"
   ]
  },
  {
   "cell_type": "code",
   "execution_count": 18,
   "id": "e670fe0e",
   "metadata": {},
   "outputs": [],
   "source": [
    "date_cols = ['착유시작일시', '착유종료일시']\n",
    "for c in date_cols:\n",
    "    df[c] = pd.to_datetime(df[c], errors='coerce')  # coerce will turn bad parses into NaT\n",
    "# now you can safely do:\n",
    "df['착유시간대']   = df['착유시작일시'].dt.hour"
   ]
  },
  {
   "cell_type": "code",
   "execution_count": 19,
   "id": "b586b703",
   "metadata": {},
   "outputs": [
    {
     "name": "stdout",
     "output_type": "stream",
     "text": [
      "int8\n"
     ]
    }
   ],
   "source": [
    "# 착유 시간대 구분\n",
    "# 1) cut 으로 4구간 나눈 뒤\n",
    "df['착유시간대'] = pd.cut(\n",
    "    df['착유시간대'],\n",
    "    bins=[0,6,12,18,24],\n",
    "    right=False,\n",
    "    labels=[1,2,3,4]\n",
    ")\n",
    "# 2) category → 정수로 변환\n",
    "df['착유시간대'] = df['착유시간대'].cat.codes + 1\n",
    "# (codes가 0~3 이므로 +1 하면 원래 라벨 1~4가 됨)\n",
    "# 3) 이제 dtype 확인해 보면 int64 로 바뀜\n",
    "print(df['착유시간대'].dtype)  # int64"
   ]
  },
  {
   "cell_type": "code",
   "execution_count": 21,
   "id": "01e13954",
   "metadata": {},
   "outputs": [],
   "source": [
    "df[\"착유효율\"] = df[\"착유량\"] / df[\"착유시간\"]\n",
    "df[\"개체별 전도도율\"] = df.groupby(\"개체번호\")[\"전도도\"].transform(\"mean\")"
   ]
  },
  {
   "cell_type": "code",
   "execution_count": 24,
   "id": "082545f5",
   "metadata": {},
   "outputs": [],
   "source": [
    "# fit/transform 앞에 한 줄 추가\n",
    "df.columns = [c.strip().replace(\" \", \"_\") for c in df.columns]"
   ]
  },
  {
   "cell_type": "code",
   "execution_count": 26,
   "id": "d5e7200c",
   "metadata": {},
   "outputs": [],
   "source": [
    "df.to_csv(\"fortab.csv\", index=False, encoding='utf-8-sig')"
   ]
  },
  {
   "cell_type": "code",
   "execution_count": null,
   "id": "39c85d84",
   "metadata": {},
   "outputs": [],
   "source": []
  }
 ],
 "metadata": {
  "kernelspec": {
   "display_name": "wonv",
   "language": "python",
   "name": "python3"
  },
  "language_info": {
   "codemirror_mode": {
    "name": "ipython",
    "version": 3
   },
   "file_extension": ".py",
   "mimetype": "text/x-python",
   "name": "python",
   "nbconvert_exporter": "python",
   "pygments_lexer": "ipython3",
   "version": "3.11.9"
  }
 },
 "nbformat": 4,
 "nbformat_minor": 5
}
