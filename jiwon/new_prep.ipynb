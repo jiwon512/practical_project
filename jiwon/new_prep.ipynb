{
 "cells": [
  {
   "cell_type": "code",
   "execution_count": 1,
   "id": "bb0c5120",
   "metadata": {},
   "outputs": [],
   "source": [
    "import pandas as pd"
   ]
  },
  {
   "cell_type": "code",
   "execution_count": 11,
   "id": "ad128c6a",
   "metadata": {},
   "outputs": [],
   "source": [
    "df = pd.read_csv(\"/Users/Jiwon/Documents/GitHub/practical_project/csv/test.csv\", encoding=\"cp949\")"
   ]
  },
  {
   "cell_type": "code",
   "execution_count": 7,
   "id": "c90d8f1d",
   "metadata": {},
   "outputs": [
    {
     "name": "stdout",
     "output_type": "stream",
     "text": [
      "착유량 하한: -1.00, 상한: 24.00\n",
      "착유회차 하한: -3.00, 상한: 7.00\n",
      "전도도 하한: 5.70, 상한: 8.20\n",
      "온도 하한: 37.30, 상한: 41.30\n",
      "유지방 하한: 1.70, 상한: 6.20\n",
      "유단백 하한: 2.40, 상한: 3.90\n",
      "공기흐름 하한: -0.70, 상한: 6.80\n",
      "착유시간 하한: -1.00, 상한: 14.00\n",
      "이상치 제거 전 행 수: 21658\n",
      "이상치 제거 후 행 수: 20233\n",
      "제거된 행 수: 1425\n"
     ]
    }
   ],
   "source": [
    "import pandas as pd\n",
    "\n",
    "# 1) 이상치 제거할 한국어 컬럼 리스트\n",
    "outlier_cols = [\n",
    "    '착유량',\n",
    "    '착유회차',\n",
    "    '전도도',\n",
    "    '온도',\n",
    "    '유지방',\n",
    "    '유단백',\n",
    "    '공기흐름',\n",
    "    '착유시간'\n",
    "]\n",
    "\n",
    "# 2) 각 칼럼별 IQR 기반 하한·상한 계산 (2.0 × IQR)\n",
    "bounds = {}\n",
    "for col in outlier_cols:\n",
    "    Q1 = df[col].quantile(0.25)\n",
    "    Q3 = df[col].quantile(0.75)\n",
    "    IQR = Q3 - Q1\n",
    "    lower = Q1 - 2.0 * IQR\n",
    "    upper = Q3 + 2.0 * IQR\n",
    "    bounds[col] = (lower, upper)\n",
    "    print(f\"{col} 하한: {lower:.2f}, 상한: {upper:.2f}\")\n",
    "\n",
    "# 3) 모든 칼럼이 허용 범위에 있는 행만 남기기\n",
    "mask = pd.Series(True, index=df.index)\n",
    "for col, (lower, upper) in bounds.items():\n",
    "    mask &= df[col].between(lower, upper)\n",
    "\n",
    "before = len(df)\n",
    "df_clean = df.loc[mask].copy()\n",
    "after = len(df_clean)\n",
    "\n",
    "print(f\"이상치 제거 전 행 수: {before}\")\n",
    "print(f\"이상치 제거 후 행 수: {after}\")\n",
    "print(f\"제거된 행 수: {before - after}\")\n",
    "# → 결과는 df_clean에 저장됩니다.\n"
   ]
  },
  {
   "cell_type": "code",
   "execution_count": null,
   "id": "cd13013f",
   "metadata": {},
   "outputs": [
    {
     "name": "stdout",
     "output_type": "stream",
     "text": [
      "착유량 하한: -6.00, 상한: 29.00\n",
      "착유회차 하한: -5.00, 상한: 9.00\n",
      "전도도 하한: 5.20, 상한: 8.70\n",
      "온도 하한: 36.50, 상한: 42.10\n",
      "유지방 하한: 0.80, 상한: 7.10\n",
      "유단백 하한: 2.10, 상한: 4.20\n",
      "공기흐름 하한: -2.20, 상한: 8.30\n",
      "착유시간 하한: -4.00, 상한: 17.00\n",
      "이상치 제거 전 행 수: 21658\n",
      "이상치 제거 후 행 수: 21050\n",
      "제거된 행 수: 608\n"
     ]
    }
   ],
   "source": [
    "import pandas as pd\n",
    "\n",
    "# 1) 이상치 제거할 한국어 컬럼 리스트\n",
    "outlier_cols = [\n",
    "    '착유량',\n",
    "    '착유회차',\n",
    "    '전도도',\n",
    "    '온도',\n",
    "    '유지방',\n",
    "    '유단백',\n",
    "    '공기흐름',\n",
    "    '착유시간'\n",
    "]\n",
    "\n",
    "# 2) 각 칼럼별 IQR 기반 하한·상한 계산 (3.0 × IQR)\n",
    "bounds = {}\n",
    "for col in outlier_cols:\n",
    "    Q1 = df[col].quantile(0.25)\n",
    "    Q3 = df[col].quantile(0.75)\n",
    "    IQR = Q3 - Q1\n",
    "    lower = Q1 - 3 * IQR\n",
    "    upper = Q3 + 3 * IQR\n",
    "    bounds[col] = (lower, upper)\n",
    "    print(f\"{col} 하한: {lower:.2f}, 상한: {upper:.2f}\")\n",
    "\n",
    "# 3) 모든 칼럼이 허용 범위에 있는 행만 남기기\n",
    "mask = pd.Series(True, index=df.index)\n",
    "for col, (lower, upper) in bounds.items():\n",
    "    mask &= df[col].between(lower, upper)\n",
    "\n",
    "before = len(df)\n",
    "df_clean = df.loc[mask].copy()\n",
    "after = len(df_clean)\n",
    "\n",
    "print(f\"이상치 제거 전 행 수: {before}\")\n",
    "print(f\"이상치 제거 후 행 수: {after}\")\n",
    "print(f\"제거된 행 수: {before - after}\")\n",
    "# → 결과는 df_clean에 저장됩니다.\n"
   ]
  },
  {
   "cell_type": "code",
   "execution_count": 13,
   "id": "6715aa91",
   "metadata": {},
   "outputs": [
    {
     "name": "stdout",
     "output_type": "stream",
     "text": [
      "착유량 5%=7.00, 95%=19.00\n",
      "착유회차 5%=1.00, 95%=4.00\n",
      "전도도 5%=6.20, 95%=7.70\n",
      "혈액흐름 5%=0.00, 95%=0.00\n",
      "온도 5%=38.50, 95%=40.50\n",
      "유지방 5%=2.70, 95%=5.20\n",
      "유단백 5%=2.80, 95%=3.50\n",
      "공기흐름 5%=1.50, 95%=5.20\n",
      "착유시간 5%=4.00, 95%=11.00\n",
      "필터 전 행 수: 21658\n",
      "필터 후 행 수: 14002\n"
     ]
    }
   ],
   "source": [
    "import pandas as pd\n",
    "\n",
    "# 1) 필터링할 컬럼 리스트 (한국어명 그대로)\n",
    "cols = [\n",
    "    '착유량',\n",
    "    '착유회차',\n",
    "    '전도도',\n",
    "    '혈액흐름',\n",
    "    '온도',\n",
    "    '유지방',\n",
    "    '유단백',\n",
    "    '공기흐름',\n",
    "    '착유시간'\n",
    "]\n",
    "\n",
    "# 2) 각 컬럼별 0.05, 0.95 분위수 계산\n",
    "quantile_bounds = {}\n",
    "for col in cols:\n",
    "    lower = df[col].quantile(0.05)\n",
    "    upper = df[col].quantile(0.95)\n",
    "    quantile_bounds[col] = (lower, upper)\n",
    "    print(f\"{col} 5%={lower:.2f}, 95%={upper:.2f}\")\n",
    "\n",
    "# 3) 모든 컬럼이 해당 구간에 있는 행만 남기기\n",
    "mask = pd.Series(True, index=df.index)\n",
    "for col, (lower, upper) in quantile_bounds.items():\n",
    "    mask &= df[col].between(lower, upper)\n",
    "\n",
    "df_qfiltered = df.loc[mask].copy()\n",
    "\n",
    "print(f\"필터 전 행 수: {len(df)}\")\n",
    "print(f\"필터 후 행 수: {len(df_qfiltered)}\")\n",
    "# → 결과는 df_qfiltered 에 저장됩니다.\n"
   ]
  },
  {
   "cell_type": "code",
   "execution_count": null,
   "id": "732b3256",
   "metadata": {},
   "outputs": [],
   "source": []
  }
 ],
 "metadata": {
  "kernelspec": {
   "display_name": "wonv",
   "language": "python",
   "name": "python3"
  },
  "language_info": {
   "codemirror_mode": {
    "name": "ipython",
    "version": 3
   },
   "file_extension": ".py",
   "mimetype": "text/x-python",
   "name": "python",
   "nbconvert_exporter": "python",
   "pygments_lexer": "ipython3",
   "version": "3.11.9"
  }
 },
 "nbformat": 4,
 "nbformat_minor": 5
}
