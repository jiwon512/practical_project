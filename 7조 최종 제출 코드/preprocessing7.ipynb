{
 "cells": [
  {
   "cell_type": "markdown",
   "id": "3481bc10",
   "metadata": {},
   "source": [
    "# 라이브러리 "
   ]
  },
  {
   "cell_type": "code",
   "execution_count": 5,
   "id": "0aab0eb5",
   "metadata": {},
   "outputs": [
    {
     "ename": "ImportError",
     "evalue": "Unable to import required dependencies:\nnumpy: Error importing numpy: you should not try to import numpy from\n        its source directory; please exit the numpy source tree, and relaunch\n        your python interpreter from there.",
     "output_type": "error",
     "traceback": [
      "\u001b[31m---------------------------------------------------------------------------\u001b[39m",
      "\u001b[31mImportError\u001b[39m                               Traceback (most recent call last)",
      "\u001b[36mCell\u001b[39m\u001b[36m \u001b[39m\u001b[32mIn[5]\u001b[39m\u001b[32m, line 1\u001b[39m\n\u001b[32m----> \u001b[39m\u001b[32m1\u001b[39m \u001b[38;5;28;01mimport\u001b[39;00m\u001b[38;5;250m \u001b[39m\u001b[34;01mpandas\u001b[39;00m\u001b[38;5;250m \u001b[39m\u001b[38;5;28;01mas\u001b[39;00m\u001b[38;5;250m \u001b[39m\u001b[34;01mpd\u001b[39;00m\n\u001b[32m      2\u001b[39m \u001b[38;5;28;01mimport\u001b[39;00m\u001b[38;5;250m \u001b[39m\u001b[34;01mnumpy\u001b[39;00m\u001b[38;5;250m \u001b[39m\u001b[38;5;28;01mas\u001b[39;00m\u001b[38;5;250m \u001b[39m\u001b[34;01mnp\u001b[39;00m\n\u001b[32m      3\u001b[39m \u001b[38;5;28;01mimport\u001b[39;00m\u001b[38;5;250m \u001b[39m\u001b[34;01mmatplotlib\u001b[39;00m\u001b[34;01m.\u001b[39;00m\u001b[34;01mpyplot\u001b[39;00m\u001b[38;5;250m \u001b[39m\u001b[38;5;28;01mas\u001b[39;00m\u001b[38;5;250m \u001b[39m\u001b[34;01mplt\u001b[39;00m\n",
      "\u001b[36mFile \u001b[39m\u001b[32mc:\\Users\\User\\Desktop\\파이썬\\연습문제\\venv\\practical_project\\project_7\\Lib\\site-packages\\pandas\\__init__.py:31\u001b[39m\n\u001b[32m     28\u001b[39m         _missing_dependencies.append(\u001b[33mf\u001b[39m\u001b[33m\"\u001b[39m\u001b[38;5;132;01m{\u001b[39;00m_dependency\u001b[38;5;132;01m}\u001b[39;00m\u001b[33m: \u001b[39m\u001b[38;5;132;01m{\u001b[39;00m_e\u001b[38;5;132;01m}\u001b[39;00m\u001b[33m\"\u001b[39m)\n\u001b[32m     30\u001b[39m \u001b[38;5;28;01mif\u001b[39;00m _missing_dependencies:  \u001b[38;5;66;03m# pragma: no cover\u001b[39;00m\n\u001b[32m---> \u001b[39m\u001b[32m31\u001b[39m     \u001b[38;5;28;01mraise\u001b[39;00m \u001b[38;5;167;01mImportError\u001b[39;00m(\n\u001b[32m     32\u001b[39m         \u001b[33m\"\u001b[39m\u001b[33mUnable to import required dependencies:\u001b[39m\u001b[38;5;130;01m\\n\u001b[39;00m\u001b[33m\"\u001b[39m + \u001b[33m\"\u001b[39m\u001b[38;5;130;01m\\n\u001b[39;00m\u001b[33m\"\u001b[39m.join(_missing_dependencies)\n\u001b[32m     33\u001b[39m     )\n\u001b[32m     34\u001b[39m \u001b[38;5;28;01mdel\u001b[39;00m _hard_dependencies, _dependency, _missing_dependencies\n\u001b[32m     36\u001b[39m \u001b[38;5;28;01mtry\u001b[39;00m:\n\u001b[32m     37\u001b[39m     \u001b[38;5;66;03m# numpy compat\u001b[39;00m\n",
      "\u001b[31mImportError\u001b[39m: Unable to import required dependencies:\nnumpy: Error importing numpy: you should not try to import numpy from\n        its source directory; please exit the numpy source tree, and relaunch\n        your python interpreter from there."
     ]
    }
   ],
   "source": [
    "import pandas as pd\n",
    "import numpy as np\n",
    "import matplotlib.pyplot as plt\n",
    "import seaborn as sns\n",
    "import geopandas as gpd\n",
    "from datetime import datetime\n",
    "import xgboost as xgb \n",
    "from sklearn.model_selection import train_test_split\n",
    "from sklearn.metrics import mean_squared_error, r2_score, mean_absolute_percentage_error\n",
    "from category_encoders import TargetEncoder\n",
    "from sklearn.model_selection import RandomizedSearchCV\n",
    "from sklearn.ensemble import RandomForestRegressor, GradientBoostingRegressor\n",
    "import lightgbm as lgb \n",
    "from sklearn.ensemble import RandomForestRegressor, GradientBoostingRegressor\n",
    "from sklearn.ensemble import StackingRegressor\n",
    "from sklearn.linear_model import LinearRegression          \n",
    "from sklearn.model_selection import cross_val_score\n",
    "\n",
    "plt.rcParams['font.family'] = 'Malgun Gothic'\n",
    "pd.options.display.max_rows = None\n",
    "pd.options.display.max_columns = None"
   ]
  },
  {
   "cell_type": "markdown",
   "id": "2fabafac",
   "metadata": {},
   "source": [
    "# 데이터 불러오기"
   ]
  },
  {
   "cell_type": "code",
   "execution_count": null,
   "id": "7f834d2b",
   "metadata": {},
   "outputs": [],
   "source": [
    "df = pd.read_csv(\"C:/Users/User/Desktop/파이썬/연습문제/venv/실전프로젝트/farm.csv\", encoding=\"cp949\")"
   ]
  },
  {
   "cell_type": "markdown",
   "id": "0957d138",
   "metadata": {},
   "source": [
    "# 데이터 전처리"
   ]
  },
  {
   "cell_type": "markdown",
   "id": "4da078b9",
   "metadata": {},
   "source": [
    "## 농장아이디 \"20261\"은 더블링으로 drop"
   ]
  },
  {
   "cell_type": "code",
   "execution_count": null,
   "id": "dbbdade4",
   "metadata": {},
   "outputs": [],
   "source": [
    "df_drop = df[df[\"농장아이디\"]==20261].index\n",
    "df.drop(df_drop, inplace=True)"
   ]
  },
  {
   "cell_type": "markdown",
   "id": "289b6d44",
   "metadata": {},
   "source": [
    "## 불필요한 컬럼 제거 (동일한 행, 동일한 컬럼, null값 컬럼)"
   ]
  },
  {
   "cell_type": "code",
   "execution_count": null,
   "id": "b2c51be0",
   "metadata": {},
   "outputs": [],
   "source": [
    "df.drop(\"체세포\", axis=1, inplace=True)\n",
    "df.drop(\"수집건수\", axis=1, inplace=True)\n",
    "df.drop(\"측정일시\", axis=1, inplace=True)\n",
    "df.drop(\"축종코드\", axis=1, inplace=True)\n",
    "df.drop(\"제조사 아이디\", axis=1, inplace=True)\n",
    "df.drop(\"수집일자\", axis=1, inplace=True)"
   ]
  },
  {
   "cell_type": "markdown",
   "id": "22240d32",
   "metadata": {},
   "source": [
    "## 데이터 타입 변환"
   ]
  },
  {
   "cell_type": "code",
   "execution_count": null,
   "id": "0492f0f9",
   "metadata": {},
   "outputs": [],
   "source": [
    "# 착유시작, 종료일시 datetime으로 전처리\n",
    "\n",
    "df[\"착유시작일시\"] = pd.to_datetime(df[\"착유시작일시\"], format=\"%Y-%m-%d %H:%M\")\n",
    "df[\"착유종료일시\"] = pd.to_datetime(df[\"착유종료일시\"], format=\"%Y-%m-%d %H:%M\")"
   ]
  },
  {
   "cell_type": "code",
   "execution_count": null,
   "id": "d3655bdb",
   "metadata": {},
   "outputs": [],
   "source": [
    "# 혈액흐름 전처리\n",
    "\n",
    "df[\"혈액흐름\"] = df[\"혈액흐름\"].apply(lambda x : 0 if x == \"N\" else 1)"
   ]
  },
  {
   "cell_type": "markdown",
   "id": "6008d1df",
   "metadata": {},
   "source": [
    "# 파생변수 생성"
   ]
  },
  {
   "cell_type": "code",
   "execution_count": null,
   "id": "b42d306e",
   "metadata": {},
   "outputs": [],
   "source": [
    "# 착유시간(분) \n",
    "\n",
    "df[\"착유시간\"] = df[\"착유종료일시\"] - df[\"착유시작일시\"]\n",
    "df[\"착유시간\"]  = df[\"착유시간\"].dt.total_seconds() / 60  # 분 단위로 변환"
   ]
  },
  {
   "cell_type": "code",
   "execution_count": null,
   "id": "d4ce74d4",
   "metadata": {},
   "outputs": [],
   "source": [
    "# 개체별 나이 (개체번호 앞 7자리는 생년월일)\n",
    "\n",
    "df_birth = df['개체번호'].astype(str).str[:8]\n",
    "df_birthdt = pd.to_datetime(df_birth, format='%Y%m%d', errors='coerce')\n",
    "\n",
    "def calculate_age(birth_date, current_date):\n",
    "\n",
    "    # 만 나이 계산 로직\n",
    "    # 현재 연도 - 출생 연도 - 불리언(생일이 현재 날짜보다 뒤에 있으면 1 빼기)\n",
    "    age = current_date.year - birth_date.year - ((current_date.month, current_date.day) < (birth_date.month, birth_date.day))\n",
    "    return age\n",
    "\n",
    "current_analysis_date = datetime(2021, 10, 1)\n",
    "df['나이'] = df_birthdt.apply(lambda x: calculate_age(x, current_analysis_date))"
   ]
  },
  {
   "cell_type": "code",
   "execution_count": null,
   "id": "84728a44",
   "metadata": {},
   "outputs": [],
   "source": [
    "# 개체별 착유일수\n",
    "\n",
    "df_count2 = df.groupby(\"개체번호\")[\"측정일\"].nunique().reset_index()\n",
    "df_count2.rename(columns={\"측정일\": \"개체별 착유일수\"}, inplace=True)\n",
    "df = df.merge(df_count2, on=\"개체번호\", how=\"left\")"
   ]
  },
  {
   "cell_type": "code",
   "execution_count": null,
   "id": "e21e0b50",
   "metadata": {},
   "outputs": [],
   "source": [
    "# P/F 비율 (유단백/유지방 비율)\n",
    "\n",
    "df[\"P/F_ratio\"] = df[\"유단백\"]/ df[\"유지방\"]"
   ]
  },
  {
   "cell_type": "code",
   "execution_count": null,
   "id": "ec11f9c6",
   "metadata": {},
   "outputs": [],
   "source": [
    "# 공기흐름 비율 (착유시간에 따른 공기흐름)\n",
    "\n",
    "df[\"공기흐름_비율\"] = df[\"공기흐름\"] / df[\"착유시간\"]"
   ]
  },
  {
   "cell_type": "markdown",
   "id": "3225d74a",
   "metadata": {},
   "source": [
    "# 결측치 제거"
   ]
  },
  {
   "cell_type": "code",
   "execution_count": 4,
   "id": "843cb09e",
   "metadata": {},
   "outputs": [
    {
     "ename": "NameError",
     "evalue": "name 'df' is not defined",
     "output_type": "error",
     "traceback": [
      "\u001b[31m---------------------------------------------------------------------------\u001b[39m",
      "\u001b[31mNameError\u001b[39m                                 Traceback (most recent call last)",
      "\u001b[36mCell\u001b[39m\u001b[36m \u001b[39m\u001b[32mIn[4]\u001b[39m\u001b[32m, line 3\u001b[39m\n\u001b[32m      1\u001b[39m \u001b[38;5;66;03m# 유지방, 유단백 결측치 제거 -> 같이 존재하기 때문에 유지방으로 제거\u001b[39;00m\n\u001b[32m----> \u001b[39m\u001b[32m3\u001b[39m null_fat = \u001b[43mdf\u001b[49m[\u001b[33m\"\u001b[39m\u001b[33m유지방\u001b[39m\u001b[33m\"\u001b[39m].isnull()\n\u001b[32m      4\u001b[39m null_fat_index = null_fat[null_fat].index\n\u001b[32m      5\u001b[39m df.drop(null_fat_index, inplace=\u001b[38;5;28;01mTrue\u001b[39;00m)\n",
      "\u001b[31mNameError\u001b[39m: name 'df' is not defined"
     ]
    }
   ],
   "source": [
    "# 유지방, 유단백 결측치 제거 -> 같이 존재하기 때문에 유지방으로 제거\n",
    "\n",
    "null_fat = df[\"유지방\"].isnull()\n",
    "null_fat_index = null_fat[null_fat].index\n",
    "df.drop(null_fat_index, inplace=True)"
   ]
  },
  {
   "cell_type": "code",
   "execution_count": null,
   "id": "225e28a4",
   "metadata": {},
   "outputs": [],
   "source": []
  }
 ],
 "metadata": {
  "kernelspec": {
   "display_name": "wonv",
   "language": "python",
   "name": "python3"
  },
  "language_info": {
   "codemirror_mode": {
    "name": "ipython",
    "version": 3
   },
   "file_extension": ".py",
   "mimetype": "text/x-python",
   "name": "python",
   "nbconvert_exporter": "python",
   "pygments_lexer": "ipython3",
   "version": "3.11.9"
  }
 },
 "nbformat": 4,
 "nbformat_minor": 5
}
